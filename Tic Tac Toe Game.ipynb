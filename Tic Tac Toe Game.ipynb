{
 "cells": [
  {
   "cell_type": "code",
   "execution_count": 1,
   "metadata": {},
   "outputs": [],
   "source": [
    "from IPython.display import clear_output\n",
    "\n",
    "def display_board(board):\n",
    "    '''\n",
    "    Function to display a board of tic tac toe\n",
    "    '''\n",
    "    clear_output()\n",
    "    print('   |   |')\n",
    "    print(' ' + board[7] + ' | ' + board[8] + ' | ' + board[9])\n",
    "    print('   |   |')\n",
    "    print('-----------')\n",
    "    print('   |   |')\n",
    "    print(' ' + board[4] + ' | ' + board[5] + ' | ' + board[6])\n",
    "    print('   |   |')\n",
    "    print('-----------')\n",
    "    print('   |   |')\n",
    "    print(' ' + board[1] + ' | ' + board[2] + ' | ' + board[3])\n",
    "    print('   |   |')"
   ]
  },
  {
   "cell_type": "code",
   "execution_count": 2,
   "metadata": {},
   "outputs": [],
   "source": [
    "def player_input():\n",
    "    '''\n",
    "    Function that assigns user1 and user2 marks as a tuple(user1,user2)\n",
    "    '''\n",
    "    user1_choice = \" \"\n",
    "    options = ['X','O']\n",
    "    while user1_choice not in options:\n",
    "        user1_choice = input(\"Player 1, you want to be X or O?\").upper()\n",
    "        if (user1_choice) not in options:\n",
    "            print(\"Incorrect input\")\n",
    "       \n",
    "    if(user1_choice =='X'):\n",
    "        return (\"X\",\"O\")\n",
    "    else:\n",
    "        return (\"O\",\"X\")\n",
    "        "
   ]
  },
  {
   "cell_type": "code",
   "execution_count": 3,
   "metadata": {},
   "outputs": [],
   "source": [
    "def place_marker(board, marker, position):\n",
    "    '''\n",
    "    Function that set user marker on a specifice position in the board\n",
    "    '''\n",
    "    board[position] = marker"
   ]
  },
  {
   "cell_type": "code",
   "execution_count": 4,
   "metadata": {},
   "outputs": [],
   "source": [
    "def win_check(board, mark):\n",
    "    '''\n",
    "    Function to check if A mark of a user won the game on board\n",
    "    '''\n",
    "    return((board[1]==board[2]==board[3]==mark) or\n",
    "           (board[4]==board[5]==board[6]==mark) or\n",
    "           (board[7]==board[8]==board[9]==mark) or\n",
    "           (board[1]==board[4]==board[7]==mark) or\n",
    "           (board[2]==board[5]==board[8]==mark) or\n",
    "           (board[3]==board[6]==board[9]==mark) or\n",
    "           (board[1]==board[5]==board[9]==mark) or\n",
    "           (board[3]==board[5]==board[7]==mark))"
   ]
  },
  {
   "cell_type": "code",
   "execution_count": 5,
   "metadata": {},
   "outputs": [],
   "source": [
    "import random\n",
    "\n",
    "def choose_first():\n",
    "    '''\n",
    "    Function to choose randomly who starts the game, Player 1 Or Player 2\n",
    "    '''\n",
    "    choice = random.randint(0,1)\n",
    "    if(choice == 0 ):\n",
    "        return \"Player 1\"\n",
    "    else:\n",
    "        return \"Player 2\""
   ]
  },
  {
   "cell_type": "code",
   "execution_count": 6,
   "metadata": {},
   "outputs": [],
   "source": [
    "def space_check(board, position):\n",
    "    '''\n",
    "    Function to check if on the board, a position has a value yet\n",
    "    '''\n",
    "    return (board[position] == \" \")"
   ]
  },
  {
   "cell_type": "code",
   "execution_count": 7,
   "metadata": {},
   "outputs": [],
   "source": [
    "def full_board_check(board):\n",
    "    '''\n",
    "    Function to check if the board is full, to know if the game should ended as a drae\n",
    "    '''\n",
    "    return(\" \" not in board)"
   ]
  },
  {
   "cell_type": "code",
   "execution_count": 8,
   "metadata": {},
   "outputs": [],
   "source": [
    "def player_choice(board):\n",
    "    '''\n",
    "    Function to take from the player a position he wants to mark on board, if it's free\n",
    "    '''\n",
    "    user1_choice = 0\n",
    "    options = [1,2,3,4,5,6,7,8,9]\n",
    "    while user1_choice not in options or not space_check(board,user1_choice):\n",
    "        user1_choice = int(input(\"Choose a position, between 1 and 9\"))\n",
    "    return user1_choice"
   ]
  },
  {
   "cell_type": "code",
   "execution_count": 9,
   "metadata": {},
   "outputs": [],
   "source": [
    "def replay():\n",
    "    '''\n",
    "    Function to check if the player wants to play another game\n",
    "    '''\n",
    "    return input('Do you want to play again? Enter Yes or No: ').lower()==\"y\""
   ]
  },
  {
   "cell_type": "markdown",
   "metadata": {},
   "source": [
    "### The Game!"
   ]
  },
  {
   "cell_type": "code",
   "execution_count": 10,
   "metadata": {},
   "outputs": [
    {
     "name": "stdout",
     "output_type": "stream",
     "text": [
      "   |   |\n",
      " X | X | X\n",
      "   |   |\n",
      "-----------\n",
      "   |   |\n",
      " O | O |  \n",
      "   |   |\n",
      "-----------\n",
      "   |   |\n",
      " X |   | O\n",
      "   |   |\n",
      "Player 1 Won!\n",
      "Do you want to play again? Enter Yes or No: No\n",
      "Thanks for playing!\n"
     ]
    }
   ],
   "source": [
    "print('Welcome to Tic Tac Toe!')\n",
    "while True:\n",
    "    board = [\"#\",\" \",\" \",\" \",\" \",\" \",\" \",\" \",\" \",\" \",]\n",
    "    player1, player2 = player_input()\n",
    "    turn = choose_first()\n",
    "    print(f'{turn} Will go First')\n",
    "    play_game = input(\"Are you ready to play? Enter Y or N\")\n",
    "    if play_game.lower() =='y':\n",
    "        game_on = True\n",
    "    else:\n",
    "        game_on = False\n",
    "    \n",
    "    while game_on:\n",
    "        if turn==\"Player 1\":\n",
    "            display_board(board)\n",
    "            position = player_choice(board)\n",
    "            place_marker(board, player1, position)\n",
    "            if(win_check(board, player1)):\n",
    "                display_board(board)\n",
    "                print(\"Player 1 Won!\")\n",
    "                game_on = False\n",
    "            else:\n",
    "                if full_board_check(board):  \n",
    "                    display_board(board)\n",
    "                    print(\"The game is a draw\")\n",
    "                    break\n",
    "                else:\n",
    "                    turn = \"Player 2\"\n",
    "        else:\n",
    "            display_board(board)\n",
    "            position = player_choice(board)\n",
    "            place_marker(board, player2, position)\n",
    "            if(win_check(board, player2)):\n",
    "                display_board(board)\n",
    "                print(\"Player 2 Won!\")\n",
    "                game_on = False\n",
    "            else:\n",
    "                if full_board_check(board):  \n",
    "                    display_board(board)\n",
    "                    print(\"The game is draw\")\n",
    "                    break\n",
    "                else:\n",
    "                    turn = \"Player 1\"\n",
    "                            \n",
    "    if not replay():\n",
    "        print(\"Thanks for playing!\")\n",
    "        break"
   ]
  }
 ],
 "metadata": {
  "kernelspec": {
   "display_name": "Python 3",
   "language": "python",
   "name": "python3"
  },
  "language_info": {
   "codemirror_mode": {
    "name": "ipython",
    "version": 3
   },
   "file_extension": ".py",
   "mimetype": "text/x-python",
   "name": "python",
   "nbconvert_exporter": "python",
   "pygments_lexer": "ipython3",
   "version": "3.7.6"
  }
 },
 "nbformat": 4,
 "nbformat_minor": 4
}
